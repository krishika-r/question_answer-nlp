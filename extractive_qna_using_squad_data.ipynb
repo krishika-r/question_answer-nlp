{
  "nbformat": 4,
  "nbformat_minor": 0,
  "metadata": {
    "colab": {
      "provenance": [],
      "gpuType": "T4"
    },
    "kernelspec": {
      "name": "python3",
      "display_name": "Python 3"
    },
    "language_info": {
      "name": "python"
    },
    "gpuClass": "standard",
    "accelerator": "GPU",
    "widgets": {
      "application/vnd.jupyter.widget-state+json": {
        "fc32ec0f34cd44d380b8a6609f9fb1bf": {
          "model_module": "@jupyter-widgets/controls",
          "model_name": "HBoxModel",
          "model_module_version": "1.5.0",
          "state": {
            "_dom_classes": [],
            "_model_module": "@jupyter-widgets/controls",
            "_model_module_version": "1.5.0",
            "_model_name": "HBoxModel",
            "_view_count": null,
            "_view_module": "@jupyter-widgets/controls",
            "_view_module_version": "1.5.0",
            "_view_name": "HBoxView",
            "box_style": "",
            "children": [
              "IPY_MODEL_a66fdd75fe624ea1bb715efd89959e6a",
              "IPY_MODEL_ed41376bbaa6440098dcf342c50653ea",
              "IPY_MODEL_bbaf7fe739d2415898d5b33c01aa4a8d"
            ],
            "layout": "IPY_MODEL_2b784b9e07b64d968504dcc735e44705"
          }
        },
        "a66fdd75fe624ea1bb715efd89959e6a": {
          "model_module": "@jupyter-widgets/controls",
          "model_name": "HTMLModel",
          "model_module_version": "1.5.0",
          "state": {
            "_dom_classes": [],
            "_model_module": "@jupyter-widgets/controls",
            "_model_module_version": "1.5.0",
            "_model_name": "HTMLModel",
            "_view_count": null,
            "_view_module": "@jupyter-widgets/controls",
            "_view_module_version": "1.5.0",
            "_view_name": "HTMLView",
            "description": "",
            "description_tooltip": null,
            "layout": "IPY_MODEL_ba5a1cff10574557b7f3cf84bd978266",
            "placeholder": "​",
            "style": "IPY_MODEL_114ef3a7f5de4ea7baa07276c01b599d",
            "value": "100%"
          }
        },
        "ed41376bbaa6440098dcf342c50653ea": {
          "model_module": "@jupyter-widgets/controls",
          "model_name": "FloatProgressModel",
          "model_module_version": "1.5.0",
          "state": {
            "_dom_classes": [],
            "_model_module": "@jupyter-widgets/controls",
            "_model_module_version": "1.5.0",
            "_model_name": "FloatProgressModel",
            "_view_count": null,
            "_view_module": "@jupyter-widgets/controls",
            "_view_module_version": "1.5.0",
            "_view_name": "ProgressView",
            "bar_style": "success",
            "description": "",
            "description_tooltip": null,
            "layout": "IPY_MODEL_0073c6e95b064f1ca8c0b6612d9cf013",
            "max": 2,
            "min": 0,
            "orientation": "horizontal",
            "style": "IPY_MODEL_ac784ae73db04b9eaeb4e1bc5d4425c6",
            "value": 2
          }
        },
        "bbaf7fe739d2415898d5b33c01aa4a8d": {
          "model_module": "@jupyter-widgets/controls",
          "model_name": "HTMLModel",
          "model_module_version": "1.5.0",
          "state": {
            "_dom_classes": [],
            "_model_module": "@jupyter-widgets/controls",
            "_model_module_version": "1.5.0",
            "_model_name": "HTMLModel",
            "_view_count": null,
            "_view_module": "@jupyter-widgets/controls",
            "_view_module_version": "1.5.0",
            "_view_name": "HTMLView",
            "description": "",
            "description_tooltip": null,
            "layout": "IPY_MODEL_2d8145850e9e4ad2b25e2a71ed416c5d",
            "placeholder": "​",
            "style": "IPY_MODEL_3e3d0f9aa1b74d0c9c612d23f8a0587b",
            "value": " 2/2 [00:00&lt;00:00, 77.17it/s]"
          }
        },
        "2b784b9e07b64d968504dcc735e44705": {
          "model_module": "@jupyter-widgets/base",
          "model_name": "LayoutModel",
          "model_module_version": "1.2.0",
          "state": {
            "_model_module": "@jupyter-widgets/base",
            "_model_module_version": "1.2.0",
            "_model_name": "LayoutModel",
            "_view_count": null,
            "_view_module": "@jupyter-widgets/base",
            "_view_module_version": "1.2.0",
            "_view_name": "LayoutView",
            "align_content": null,
            "align_items": null,
            "align_self": null,
            "border": null,
            "bottom": null,
            "display": null,
            "flex": null,
            "flex_flow": null,
            "grid_area": null,
            "grid_auto_columns": null,
            "grid_auto_flow": null,
            "grid_auto_rows": null,
            "grid_column": null,
            "grid_gap": null,
            "grid_row": null,
            "grid_template_areas": null,
            "grid_template_columns": null,
            "grid_template_rows": null,
            "height": null,
            "justify_content": null,
            "justify_items": null,
            "left": null,
            "margin": null,
            "max_height": null,
            "max_width": null,
            "min_height": null,
            "min_width": null,
            "object_fit": null,
            "object_position": null,
            "order": null,
            "overflow": null,
            "overflow_x": null,
            "overflow_y": null,
            "padding": null,
            "right": null,
            "top": null,
            "visibility": null,
            "width": null
          }
        },
        "ba5a1cff10574557b7f3cf84bd978266": {
          "model_module": "@jupyter-widgets/base",
          "model_name": "LayoutModel",
          "model_module_version": "1.2.0",
          "state": {
            "_model_module": "@jupyter-widgets/base",
            "_model_module_version": "1.2.0",
            "_model_name": "LayoutModel",
            "_view_count": null,
            "_view_module": "@jupyter-widgets/base",
            "_view_module_version": "1.2.0",
            "_view_name": "LayoutView",
            "align_content": null,
            "align_items": null,
            "align_self": null,
            "border": null,
            "bottom": null,
            "display": null,
            "flex": null,
            "flex_flow": null,
            "grid_area": null,
            "grid_auto_columns": null,
            "grid_auto_flow": null,
            "grid_auto_rows": null,
            "grid_column": null,
            "grid_gap": null,
            "grid_row": null,
            "grid_template_areas": null,
            "grid_template_columns": null,
            "grid_template_rows": null,
            "height": null,
            "justify_content": null,
            "justify_items": null,
            "left": null,
            "margin": null,
            "max_height": null,
            "max_width": null,
            "min_height": null,
            "min_width": null,
            "object_fit": null,
            "object_position": null,
            "order": null,
            "overflow": null,
            "overflow_x": null,
            "overflow_y": null,
            "padding": null,
            "right": null,
            "top": null,
            "visibility": null,
            "width": null
          }
        },
        "114ef3a7f5de4ea7baa07276c01b599d": {
          "model_module": "@jupyter-widgets/controls",
          "model_name": "DescriptionStyleModel",
          "model_module_version": "1.5.0",
          "state": {
            "_model_module": "@jupyter-widgets/controls",
            "_model_module_version": "1.5.0",
            "_model_name": "DescriptionStyleModel",
            "_view_count": null,
            "_view_module": "@jupyter-widgets/base",
            "_view_module_version": "1.2.0",
            "_view_name": "StyleView",
            "description_width": ""
          }
        },
        "0073c6e95b064f1ca8c0b6612d9cf013": {
          "model_module": "@jupyter-widgets/base",
          "model_name": "LayoutModel",
          "model_module_version": "1.2.0",
          "state": {
            "_model_module": "@jupyter-widgets/base",
            "_model_module_version": "1.2.0",
            "_model_name": "LayoutModel",
            "_view_count": null,
            "_view_module": "@jupyter-widgets/base",
            "_view_module_version": "1.2.0",
            "_view_name": "LayoutView",
            "align_content": null,
            "align_items": null,
            "align_self": null,
            "border": null,
            "bottom": null,
            "display": null,
            "flex": null,
            "flex_flow": null,
            "grid_area": null,
            "grid_auto_columns": null,
            "grid_auto_flow": null,
            "grid_auto_rows": null,
            "grid_column": null,
            "grid_gap": null,
            "grid_row": null,
            "grid_template_areas": null,
            "grid_template_columns": null,
            "grid_template_rows": null,
            "height": null,
            "justify_content": null,
            "justify_items": null,
            "left": null,
            "margin": null,
            "max_height": null,
            "max_width": null,
            "min_height": null,
            "min_width": null,
            "object_fit": null,
            "object_position": null,
            "order": null,
            "overflow": null,
            "overflow_x": null,
            "overflow_y": null,
            "padding": null,
            "right": null,
            "top": null,
            "visibility": null,
            "width": null
          }
        },
        "ac784ae73db04b9eaeb4e1bc5d4425c6": {
          "model_module": "@jupyter-widgets/controls",
          "model_name": "ProgressStyleModel",
          "model_module_version": "1.5.0",
          "state": {
            "_model_module": "@jupyter-widgets/controls",
            "_model_module_version": "1.5.0",
            "_model_name": "ProgressStyleModel",
            "_view_count": null,
            "_view_module": "@jupyter-widgets/base",
            "_view_module_version": "1.2.0",
            "_view_name": "StyleView",
            "bar_color": null,
            "description_width": ""
          }
        },
        "2d8145850e9e4ad2b25e2a71ed416c5d": {
          "model_module": "@jupyter-widgets/base",
          "model_name": "LayoutModel",
          "model_module_version": "1.2.0",
          "state": {
            "_model_module": "@jupyter-widgets/base",
            "_model_module_version": "1.2.0",
            "_model_name": "LayoutModel",
            "_view_count": null,
            "_view_module": "@jupyter-widgets/base",
            "_view_module_version": "1.2.0",
            "_view_name": "LayoutView",
            "align_content": null,
            "align_items": null,
            "align_self": null,
            "border": null,
            "bottom": null,
            "display": null,
            "flex": null,
            "flex_flow": null,
            "grid_area": null,
            "grid_auto_columns": null,
            "grid_auto_flow": null,
            "grid_auto_rows": null,
            "grid_column": null,
            "grid_gap": null,
            "grid_row": null,
            "grid_template_areas": null,
            "grid_template_columns": null,
            "grid_template_rows": null,
            "height": null,
            "justify_content": null,
            "justify_items": null,
            "left": null,
            "margin": null,
            "max_height": null,
            "max_width": null,
            "min_height": null,
            "min_width": null,
            "object_fit": null,
            "object_position": null,
            "order": null,
            "overflow": null,
            "overflow_x": null,
            "overflow_y": null,
            "padding": null,
            "right": null,
            "top": null,
            "visibility": null,
            "width": null
          }
        },
        "3e3d0f9aa1b74d0c9c612d23f8a0587b": {
          "model_module": "@jupyter-widgets/controls",
          "model_name": "DescriptionStyleModel",
          "model_module_version": "1.5.0",
          "state": {
            "_model_module": "@jupyter-widgets/controls",
            "_model_module_version": "1.5.0",
            "_model_name": "DescriptionStyleModel",
            "_view_count": null,
            "_view_module": "@jupyter-widgets/base",
            "_view_module_version": "1.2.0",
            "_view_name": "StyleView",
            "description_width": ""
          }
        },
        "3b39828d81c14ce889be3b622598e24b": {
          "model_module": "@jupyter-widgets/controls",
          "model_name": "HBoxModel",
          "model_module_version": "1.5.0",
          "state": {
            "_dom_classes": [],
            "_model_module": "@jupyter-widgets/controls",
            "_model_module_version": "1.5.0",
            "_model_name": "HBoxModel",
            "_view_count": null,
            "_view_module": "@jupyter-widgets/controls",
            "_view_module_version": "1.5.0",
            "_view_name": "HBoxView",
            "box_style": "",
            "children": [
              "IPY_MODEL_fcddd560975a430cab3df4e43ec28c74",
              "IPY_MODEL_96c2fc5868e64869b6bf46211fb07090",
              "IPY_MODEL_97115a90f2ce475f9e7e5b6fb68873da"
            ],
            "layout": "IPY_MODEL_ee6945f7bc764ed89f23d7aadd5ffa6e"
          }
        },
        "fcddd560975a430cab3df4e43ec28c74": {
          "model_module": "@jupyter-widgets/controls",
          "model_name": "HTMLModel",
          "model_module_version": "1.5.0",
          "state": {
            "_dom_classes": [],
            "_model_module": "@jupyter-widgets/controls",
            "_model_module_version": "1.5.0",
            "_model_name": "HTMLModel",
            "_view_count": null,
            "_view_module": "@jupyter-widgets/controls",
            "_view_module_version": "1.5.0",
            "_view_name": "HTMLView",
            "description": "",
            "description_tooltip": null,
            "layout": "IPY_MODEL_be64b6428a6e45d9a97ebe6838cc8f24",
            "placeholder": "​",
            "style": "IPY_MODEL_a4114082969e4acf972ab44ffd8350a2",
            "value": "Downloading builder script: "
          }
        },
        "96c2fc5868e64869b6bf46211fb07090": {
          "model_module": "@jupyter-widgets/controls",
          "model_name": "FloatProgressModel",
          "model_module_version": "1.5.0",
          "state": {
            "_dom_classes": [],
            "_model_module": "@jupyter-widgets/controls",
            "_model_module_version": "1.5.0",
            "_model_name": "FloatProgressModel",
            "_view_count": null,
            "_view_module": "@jupyter-widgets/controls",
            "_view_module_version": "1.5.0",
            "_view_name": "ProgressView",
            "bar_style": "success",
            "description": "",
            "description_tooltip": null,
            "layout": "IPY_MODEL_86a78a83cc12406ca295c662886d363c",
            "max": 2169,
            "min": 0,
            "orientation": "horizontal",
            "style": "IPY_MODEL_e7577fdcec464c6d87b88182d152b1af",
            "value": 2169
          }
        },
        "97115a90f2ce475f9e7e5b6fb68873da": {
          "model_module": "@jupyter-widgets/controls",
          "model_name": "HTMLModel",
          "model_module_version": "1.5.0",
          "state": {
            "_dom_classes": [],
            "_model_module": "@jupyter-widgets/controls",
            "_model_module_version": "1.5.0",
            "_model_name": "HTMLModel",
            "_view_count": null,
            "_view_module": "@jupyter-widgets/controls",
            "_view_module_version": "1.5.0",
            "_view_name": "HTMLView",
            "description": "",
            "description_tooltip": null,
            "layout": "IPY_MODEL_56c45ed13f93419a9915e44b933da0d2",
            "placeholder": "​",
            "style": "IPY_MODEL_de442c12bdbb4a17b011ebe73010930d",
            "value": " 5.65k/? [00:00&lt;00:00, 269kB/s]"
          }
        },
        "ee6945f7bc764ed89f23d7aadd5ffa6e": {
          "model_module": "@jupyter-widgets/base",
          "model_name": "LayoutModel",
          "model_module_version": "1.2.0",
          "state": {
            "_model_module": "@jupyter-widgets/base",
            "_model_module_version": "1.2.0",
            "_model_name": "LayoutModel",
            "_view_count": null,
            "_view_module": "@jupyter-widgets/base",
            "_view_module_version": "1.2.0",
            "_view_name": "LayoutView",
            "align_content": null,
            "align_items": null,
            "align_self": null,
            "border": null,
            "bottom": null,
            "display": null,
            "flex": null,
            "flex_flow": null,
            "grid_area": null,
            "grid_auto_columns": null,
            "grid_auto_flow": null,
            "grid_auto_rows": null,
            "grid_column": null,
            "grid_gap": null,
            "grid_row": null,
            "grid_template_areas": null,
            "grid_template_columns": null,
            "grid_template_rows": null,
            "height": null,
            "justify_content": null,
            "justify_items": null,
            "left": null,
            "margin": null,
            "max_height": null,
            "max_width": null,
            "min_height": null,
            "min_width": null,
            "object_fit": null,
            "object_position": null,
            "order": null,
            "overflow": null,
            "overflow_x": null,
            "overflow_y": null,
            "padding": null,
            "right": null,
            "top": null,
            "visibility": null,
            "width": null
          }
        },
        "be64b6428a6e45d9a97ebe6838cc8f24": {
          "model_module": "@jupyter-widgets/base",
          "model_name": "LayoutModel",
          "model_module_version": "1.2.0",
          "state": {
            "_model_module": "@jupyter-widgets/base",
            "_model_module_version": "1.2.0",
            "_model_name": "LayoutModel",
            "_view_count": null,
            "_view_module": "@jupyter-widgets/base",
            "_view_module_version": "1.2.0",
            "_view_name": "LayoutView",
            "align_content": null,
            "align_items": null,
            "align_self": null,
            "border": null,
            "bottom": null,
            "display": null,
            "flex": null,
            "flex_flow": null,
            "grid_area": null,
            "grid_auto_columns": null,
            "grid_auto_flow": null,
            "grid_auto_rows": null,
            "grid_column": null,
            "grid_gap": null,
            "grid_row": null,
            "grid_template_areas": null,
            "grid_template_columns": null,
            "grid_template_rows": null,
            "height": null,
            "justify_content": null,
            "justify_items": null,
            "left": null,
            "margin": null,
            "max_height": null,
            "max_width": null,
            "min_height": null,
            "min_width": null,
            "object_fit": null,
            "object_position": null,
            "order": null,
            "overflow": null,
            "overflow_x": null,
            "overflow_y": null,
            "padding": null,
            "right": null,
            "top": null,
            "visibility": null,
            "width": null
          }
        },
        "a4114082969e4acf972ab44ffd8350a2": {
          "model_module": "@jupyter-widgets/controls",
          "model_name": "DescriptionStyleModel",
          "model_module_version": "1.5.0",
          "state": {
            "_model_module": "@jupyter-widgets/controls",
            "_model_module_version": "1.5.0",
            "_model_name": "DescriptionStyleModel",
            "_view_count": null,
            "_view_module": "@jupyter-widgets/base",
            "_view_module_version": "1.2.0",
            "_view_name": "StyleView",
            "description_width": ""
          }
        },
        "86a78a83cc12406ca295c662886d363c": {
          "model_module": "@jupyter-widgets/base",
          "model_name": "LayoutModel",
          "model_module_version": "1.2.0",
          "state": {
            "_model_module": "@jupyter-widgets/base",
            "_model_module_version": "1.2.0",
            "_model_name": "LayoutModel",
            "_view_count": null,
            "_view_module": "@jupyter-widgets/base",
            "_view_module_version": "1.2.0",
            "_view_name": "LayoutView",
            "align_content": null,
            "align_items": null,
            "align_self": null,
            "border": null,
            "bottom": null,
            "display": null,
            "flex": null,
            "flex_flow": null,
            "grid_area": null,
            "grid_auto_columns": null,
            "grid_auto_flow": null,
            "grid_auto_rows": null,
            "grid_column": null,
            "grid_gap": null,
            "grid_row": null,
            "grid_template_areas": null,
            "grid_template_columns": null,
            "grid_template_rows": null,
            "height": null,
            "justify_content": null,
            "justify_items": null,
            "left": null,
            "margin": null,
            "max_height": null,
            "max_width": null,
            "min_height": null,
            "min_width": null,
            "object_fit": null,
            "object_position": null,
            "order": null,
            "overflow": null,
            "overflow_x": null,
            "overflow_y": null,
            "padding": null,
            "right": null,
            "top": null,
            "visibility": null,
            "width": null
          }
        },
        "e7577fdcec464c6d87b88182d152b1af": {
          "model_module": "@jupyter-widgets/controls",
          "model_name": "ProgressStyleModel",
          "model_module_version": "1.5.0",
          "state": {
            "_model_module": "@jupyter-widgets/controls",
            "_model_module_version": "1.5.0",
            "_model_name": "ProgressStyleModel",
            "_view_count": null,
            "_view_module": "@jupyter-widgets/base",
            "_view_module_version": "1.2.0",
            "_view_name": "StyleView",
            "bar_color": null,
            "description_width": ""
          }
        },
        "56c45ed13f93419a9915e44b933da0d2": {
          "model_module": "@jupyter-widgets/base",
          "model_name": "LayoutModel",
          "model_module_version": "1.2.0",
          "state": {
            "_model_module": "@jupyter-widgets/base",
            "_model_module_version": "1.2.0",
            "_model_name": "LayoutModel",
            "_view_count": null,
            "_view_module": "@jupyter-widgets/base",
            "_view_module_version": "1.2.0",
            "_view_name": "LayoutView",
            "align_content": null,
            "align_items": null,
            "align_self": null,
            "border": null,
            "bottom": null,
            "display": null,
            "flex": null,
            "flex_flow": null,
            "grid_area": null,
            "grid_auto_columns": null,
            "grid_auto_flow": null,
            "grid_auto_rows": null,
            "grid_column": null,
            "grid_gap": null,
            "grid_row": null,
            "grid_template_areas": null,
            "grid_template_columns": null,
            "grid_template_rows": null,
            "height": null,
            "justify_content": null,
            "justify_items": null,
            "left": null,
            "margin": null,
            "max_height": null,
            "max_width": null,
            "min_height": null,
            "min_width": null,
            "object_fit": null,
            "object_position": null,
            "order": null,
            "overflow": null,
            "overflow_x": null,
            "overflow_y": null,
            "padding": null,
            "right": null,
            "top": null,
            "visibility": null,
            "width": null
          }
        },
        "de442c12bdbb4a17b011ebe73010930d": {
          "model_module": "@jupyter-widgets/controls",
          "model_name": "DescriptionStyleModel",
          "model_module_version": "1.5.0",
          "state": {
            "_model_module": "@jupyter-widgets/controls",
            "_model_module_version": "1.5.0",
            "_model_name": "DescriptionStyleModel",
            "_view_count": null,
            "_view_module": "@jupyter-widgets/base",
            "_view_module_version": "1.2.0",
            "_view_name": "StyleView",
            "description_width": ""
          }
        }
      }
    }
  },
  "cells": [
    {
      "cell_type": "code",
      "source": [
        "# Mounting the Drive\n",
        "from google.colab import drive\n",
        "drive.mount('/content/drive')"
      ],
      "metadata": {
        "colab": {
          "base_uri": "https://localhost:8080/"
        },
        "id": "slBBsqL_c7-p",
        "outputId": "70d82808-9278-476e-9e0e-2d0839f22f19"
      },
      "execution_count": null,
      "outputs": [
        {
          "output_type": "stream",
          "name": "stdout",
          "text": [
            "Mounted at /content/drive\n"
          ]
        }
      ]
    },
    {
      "cell_type": "code",
      "execution_count": null,
      "metadata": {
        "colab": {
          "base_uri": "https://localhost:8080/"
        },
        "id": "lOOBRDk2c57D",
        "outputId": "bfe0acd2-81e4-4684-b65f-e34e096a7bca"
      },
      "outputs": [
        {
          "output_type": "stream",
          "name": "stdout",
          "text": [
            "/content/drive/MyDrive/qna_package_nlp_final\n"
          ]
        }
      ],
      "source": [
        "%cd /content/drive/MyDrive/qna_package_nlp_final/"
      ]
    },
    {
      "cell_type": "markdown",
      "source": [
        "# Downloading squad_v2 Data"
      ],
      "metadata": {
        "id": "oachwM-mnoMB"
      }
    },
    {
      "cell_type": "markdown",
      "source": [
        "Method 1"
      ],
      "metadata": {
        "id": "4KLX0U7K7han"
      }
    },
    {
      "cell_type": "code",
      "source": [
        "!pip install datasets"
      ],
      "metadata": {
        "id": "9W0BjbOBkSvn"
      },
      "execution_count": null,
      "outputs": []
    },
    {
      "cell_type": "markdown",
      "source": [],
      "metadata": {
        "id": "9gNW58kj464U"
      }
    },
    {
      "cell_type": "code",
      "source": [
        "from datasets import load_dataset,load_metric\n",
        "raw_datasets = load_dataset(\"squad_v2\")\n",
        "metric = load_metric(\"rouge\")"
      ],
      "metadata": {
        "colab": {
          "base_uri": "https://localhost:8080/",
          "height": 170,
          "referenced_widgets": [
            "fc32ec0f34cd44d380b8a6609f9fb1bf",
            "a66fdd75fe624ea1bb715efd89959e6a",
            "ed41376bbaa6440098dcf342c50653ea",
            "bbaf7fe739d2415898d5b33c01aa4a8d",
            "2b784b9e07b64d968504dcc735e44705",
            "ba5a1cff10574557b7f3cf84bd978266",
            "114ef3a7f5de4ea7baa07276c01b599d",
            "0073c6e95b064f1ca8c0b6612d9cf013",
            "ac784ae73db04b9eaeb4e1bc5d4425c6",
            "2d8145850e9e4ad2b25e2a71ed416c5d",
            "3e3d0f9aa1b74d0c9c612d23f8a0587b",
            "3b39828d81c14ce889be3b622598e24b",
            "fcddd560975a430cab3df4e43ec28c74",
            "96c2fc5868e64869b6bf46211fb07090",
            "97115a90f2ce475f9e7e5b6fb68873da",
            "ee6945f7bc764ed89f23d7aadd5ffa6e",
            "be64b6428a6e45d9a97ebe6838cc8f24",
            "a4114082969e4acf972ab44ffd8350a2",
            "86a78a83cc12406ca295c662886d363c",
            "e7577fdcec464c6d87b88182d152b1af",
            "56c45ed13f93419a9915e44b933da0d2",
            "de442c12bdbb4a17b011ebe73010930d"
          ]
        },
        "id": "1iT848X1kQpH",
        "outputId": "a1d9748d-8211-4ca7-e62d-debab371cfe5"
      },
      "execution_count": null,
      "outputs": [
        {
          "output_type": "stream",
          "name": "stderr",
          "text": [
            "WARNING:datasets.load:Using the latest cached version of the module from /root/.cache/huggingface/modules/datasets_modules/datasets/squad_v2/09187c73c1b837c95d9a249cd97c2c3f1cebada06efe667b4427714b27639b1d (last modified on Tue May  9 10:45:14 2023) since it couldn't be found locally at squad_v2., or remotely on the Hugging Face Hub.\n",
            "WARNING:datasets.builder:Found cached dataset squad_v2 (/root/.cache/huggingface/datasets/squad_v2/squad_v2/2.0.0/09187c73c1b837c95d9a249cd97c2c3f1cebada06efe667b4427714b27639b1d)\n"
          ]
        },
        {
          "output_type": "display_data",
          "data": {
            "text/plain": [
              "  0%|          | 0/2 [00:00<?, ?it/s]"
            ],
            "application/vnd.jupyter.widget-view+json": {
              "version_major": 2,
              "version_minor": 0,
              "model_id": "fc32ec0f34cd44d380b8a6609f9fb1bf"
            }
          },
          "metadata": {}
        },
        {
          "output_type": "stream",
          "name": "stderr",
          "text": [
            "<ipython-input-56-d1b9895e5926>:3: FutureWarning: load_metric is deprecated and will be removed in the next major version of datasets. Use 'evaluate.load' instead, from the new library 🤗 Evaluate: https://huggingface.co/docs/evaluate\n",
            "  metric = load_metric(\"rouge\")\n"
          ]
        },
        {
          "output_type": "display_data",
          "data": {
            "text/plain": [
              "Downloading builder script:   0%|          | 0.00/2.17k [00:00<?, ?B/s]"
            ],
            "application/vnd.jupyter.widget-view+json": {
              "version_major": 2,
              "version_minor": 0,
              "model_id": "3b39828d81c14ce889be3b622598e24b"
            }
          },
          "metadata": {}
        }
      ]
    },
    {
      "cell_type": "code",
      "source": [
        "# # qna model needs data in this json format\n",
        "\n",
        "# {\n",
        "#   \"data\": [\n",
        "#     {\n",
        "#       \"title\": \"some text\",\n",
        "#       \"context\": \"some text\",\n",
        "#       \"question\": \"some question\",\n",
        "#       \"answers\": {\n",
        "#         \"text\": [\n",
        "#           \"some text\"\n",
        "#         ],\n",
        "#         \"answer_start\": [\n",
        "#           45\n",
        "#         ]\n",
        "#       },\n",
        "#       \"id\": \"0\"\n",
        "#     },"
      ],
      "metadata": {
        "id": "gH1pfc4PEInq"
      },
      "execution_count": null,
      "outputs": []
    },
    {
      "cell_type": "markdown",
      "source": [
        "### Saving train data in json format"
      ],
      "metadata": {
        "id": "JHKbYi4W_Cl8"
      }
    },
    {
      "cell_type": "code",
      "source": [
        "import pandas as pd\n",
        "import json"
      ],
      "metadata": {
        "id": "yti0dTXCSHxf"
      },
      "execution_count": null,
      "outputs": []
    },
    {
      "cell_type": "code",
      "source": [
        "%%time\n",
        "temp=[]\n",
        "for i in range(len(raw_datasets['train'])):\n",
        "  temp.append(raw_datasets['train'][i])\n",
        "train_df=pd.DataFrame(temp)\n",
        "train_df = train_df.reset_index().drop(columns=['index'])\n",
        "train_df = train_df.to_json(orient=\"records\")\n",
        "train_df = json.loads(train_df)\n",
        "train_df = {'data':train_df}\n",
        "\n",
        "with open('squad_data/train_data_squadv2.json', 'w', encoding='utf-8') as f:\n",
        "    json.dump(train_df, f, ensure_ascii=False, indent=4)"
      ],
      "metadata": {
        "id": "OrvLBs2LkgoF",
        "colab": {
          "base_uri": "https://localhost:8080/"
        },
        "outputId": "ffce0a16-7172-4aba-9a6b-31d60c3b9888"
      },
      "execution_count": null,
      "outputs": [
        {
          "output_type": "stream",
          "name": "stdout",
          "text": [
            "CPU times: user 15.8 s, sys: 237 ms, total: 16 s\n",
            "Wall time: 16 s\n"
          ]
        }
      ]
    },
    {
      "cell_type": "markdown",
      "source": [
        "### Saving validation data in json format"
      ],
      "metadata": {
        "id": "Ev7LEaKPug_h"
      }
    },
    {
      "cell_type": "code",
      "source": [
        "temp=[]\n",
        "for i in range(len(raw_datasets['validation'])):\n",
        "  temp.append(raw_datasets['validation'][i])\n",
        "val_df=pd.DataFrame(temp)\n",
        "val_df = val_df.reset_index().drop(columns=['index'])"
      ],
      "metadata": {
        "id": "dx9wsClhN3-e"
      },
      "execution_count": null,
      "outputs": []
    },
    {
      "cell_type": "code",
      "source": [
        "val_df.head(2)"
      ],
      "metadata": {
        "colab": {
          "base_uri": "https://localhost:8080/",
          "height": 112
        },
        "id": "RpolOFXNNtu0",
        "outputId": "91396540-03e3-4913-db6d-4960adf40836"
      },
      "execution_count": null,
      "outputs": [
        {
          "output_type": "execute_result",
          "data": {
            "text/plain": [
              "                         id    title  \\\n",
              "0  56ddde6b9a695914005b9628  Normans   \n",
              "1  56ddde6b9a695914005b9629  Normans   \n",
              "\n",
              "                                             context  \\\n",
              "0  The Normans (Norman: Nourmands; French: Norman...   \n",
              "1  The Normans (Norman: Nourmands; French: Norman...   \n",
              "\n",
              "                               question  \\\n",
              "0  In what country is Normandy located?   \n",
              "1    When were the Normans in Normandy?   \n",
              "\n",
              "                                             answers  \n",
              "0  {'text': ['France', 'France', 'France', 'Franc...  \n",
              "1  {'text': ['10th and 11th centuries', 'in the 1...  "
            ],
            "text/html": [
              "\n",
              "  <div id=\"df-84c9d4a5-baa1-4357-bb10-674546e8e990\">\n",
              "    <div class=\"colab-df-container\">\n",
              "      <div>\n",
              "<style scoped>\n",
              "    .dataframe tbody tr th:only-of-type {\n",
              "        vertical-align: middle;\n",
              "    }\n",
              "\n",
              "    .dataframe tbody tr th {\n",
              "        vertical-align: top;\n",
              "    }\n",
              "\n",
              "    .dataframe thead th {\n",
              "        text-align: right;\n",
              "    }\n",
              "</style>\n",
              "<table border=\"1\" class=\"dataframe\">\n",
              "  <thead>\n",
              "    <tr style=\"text-align: right;\">\n",
              "      <th></th>\n",
              "      <th>id</th>\n",
              "      <th>title</th>\n",
              "      <th>context</th>\n",
              "      <th>question</th>\n",
              "      <th>answers</th>\n",
              "    </tr>\n",
              "  </thead>\n",
              "  <tbody>\n",
              "    <tr>\n",
              "      <th>0</th>\n",
              "      <td>56ddde6b9a695914005b9628</td>\n",
              "      <td>Normans</td>\n",
              "      <td>The Normans (Norman: Nourmands; French: Norman...</td>\n",
              "      <td>In what country is Normandy located?</td>\n",
              "      <td>{'text': ['France', 'France', 'France', 'Franc...</td>\n",
              "    </tr>\n",
              "    <tr>\n",
              "      <th>1</th>\n",
              "      <td>56ddde6b9a695914005b9629</td>\n",
              "      <td>Normans</td>\n",
              "      <td>The Normans (Norman: Nourmands; French: Norman...</td>\n",
              "      <td>When were the Normans in Normandy?</td>\n",
              "      <td>{'text': ['10th and 11th centuries', 'in the 1...</td>\n",
              "    </tr>\n",
              "  </tbody>\n",
              "</table>\n",
              "</div>\n",
              "      <button class=\"colab-df-convert\" onclick=\"convertToInteractive('df-84c9d4a5-baa1-4357-bb10-674546e8e990')\"\n",
              "              title=\"Convert this dataframe to an interactive table.\"\n",
              "              style=\"display:none;\">\n",
              "        \n",
              "  <svg xmlns=\"http://www.w3.org/2000/svg\" height=\"24px\"viewBox=\"0 0 24 24\"\n",
              "       width=\"24px\">\n",
              "    <path d=\"M0 0h24v24H0V0z\" fill=\"none\"/>\n",
              "    <path d=\"M18.56 5.44l.94 2.06.94-2.06 2.06-.94-2.06-.94-.94-2.06-.94 2.06-2.06.94zm-11 1L8.5 8.5l.94-2.06 2.06-.94-2.06-.94L8.5 2.5l-.94 2.06-2.06.94zm10 10l.94 2.06.94-2.06 2.06-.94-2.06-.94-.94-2.06-.94 2.06-2.06.94z\"/><path d=\"M17.41 7.96l-1.37-1.37c-.4-.4-.92-.59-1.43-.59-.52 0-1.04.2-1.43.59L10.3 9.45l-7.72 7.72c-.78.78-.78 2.05 0 2.83L4 21.41c.39.39.9.59 1.41.59.51 0 1.02-.2 1.41-.59l7.78-7.78 2.81-2.81c.8-.78.8-2.07 0-2.86zM5.41 20L4 18.59l7.72-7.72 1.47 1.35L5.41 20z\"/>\n",
              "  </svg>\n",
              "      </button>\n",
              "      \n",
              "  <style>\n",
              "    .colab-df-container {\n",
              "      display:flex;\n",
              "      flex-wrap:wrap;\n",
              "      gap: 12px;\n",
              "    }\n",
              "\n",
              "    .colab-df-convert {\n",
              "      background-color: #E8F0FE;\n",
              "      border: none;\n",
              "      border-radius: 50%;\n",
              "      cursor: pointer;\n",
              "      display: none;\n",
              "      fill: #1967D2;\n",
              "      height: 32px;\n",
              "      padding: 0 0 0 0;\n",
              "      width: 32px;\n",
              "    }\n",
              "\n",
              "    .colab-df-convert:hover {\n",
              "      background-color: #E2EBFA;\n",
              "      box-shadow: 0px 1px 2px rgba(60, 64, 67, 0.3), 0px 1px 3px 1px rgba(60, 64, 67, 0.15);\n",
              "      fill: #174EA6;\n",
              "    }\n",
              "\n",
              "    [theme=dark] .colab-df-convert {\n",
              "      background-color: #3B4455;\n",
              "      fill: #D2E3FC;\n",
              "    }\n",
              "\n",
              "    [theme=dark] .colab-df-convert:hover {\n",
              "      background-color: #434B5C;\n",
              "      box-shadow: 0px 1px 3px 1px rgba(0, 0, 0, 0.15);\n",
              "      filter: drop-shadow(0px 1px 2px rgba(0, 0, 0, 0.3));\n",
              "      fill: #FFFFFF;\n",
              "    }\n",
              "  </style>\n",
              "\n",
              "      <script>\n",
              "        const buttonEl =\n",
              "          document.querySelector('#df-84c9d4a5-baa1-4357-bb10-674546e8e990 button.colab-df-convert');\n",
              "        buttonEl.style.display =\n",
              "          google.colab.kernel.accessAllowed ? 'block' : 'none';\n",
              "\n",
              "        async function convertToInteractive(key) {\n",
              "          const element = document.querySelector('#df-84c9d4a5-baa1-4357-bb10-674546e8e990');\n",
              "          const dataTable =\n",
              "            await google.colab.kernel.invokeFunction('convertToInteractive',\n",
              "                                                     [key], {});\n",
              "          if (!dataTable) return;\n",
              "\n",
              "          const docLinkHtml = 'Like what you see? Visit the ' +\n",
              "            '<a target=\"_blank\" href=https://colab.research.google.com/notebooks/data_table.ipynb>data table notebook</a>'\n",
              "            + ' to learn more about interactive tables.';\n",
              "          element.innerHTML = '';\n",
              "          dataTable['output_type'] = 'display_data';\n",
              "          await google.colab.output.renderOutput(dataTable, element);\n",
              "          const docLink = document.createElement('div');\n",
              "          docLink.innerHTML = docLinkHtml;\n",
              "          element.appendChild(docLink);\n",
              "        }\n",
              "      </script>\n",
              "    </div>\n",
              "  </div>\n",
              "  "
            ]
          },
          "metadata": {},
          "execution_count": 45
        }
      ]
    },
    {
      "cell_type": "markdown",
      "source": [
        "taking frst 500 rows as test data and remaining data to val data"
      ],
      "metadata": {
        "id": "IPFIMV6nL51q"
      }
    },
    {
      "cell_type": "code",
      "source": [
        "test_df = val_df[:500].to_json(orient=\"records\")\n",
        "test_df = json.loads(test_df)\n",
        "test_df = {'data':test_df}\n",
        "with open('squad_data/test_data_squadv2.json', 'w', encoding='utf-8') as f:\n",
        "    json.dump(test_df, f, ensure_ascii=False, indent=4)"
      ],
      "metadata": {
        "id": "cDORmMm_LuVg"
      },
      "execution_count": null,
      "outputs": []
    },
    {
      "cell_type": "code",
      "source": [
        "val_df_final = val_df[501:].to_json(orient=\"records\")\n",
        "val_df_final = json.loads(val_df_final)\n",
        "val_df_final = {'data':val_df_final}\n",
        "\n",
        "with open('squad_data/validation_data_squadv2.json', 'w', encoding='utf-8') as f:\n",
        "    json.dump(val_df_final, f, ensure_ascii=False, indent=4)"
      ],
      "metadata": {
        "id": "tSrEkyUULVL_"
      },
      "execution_count": null,
      "outputs": []
    },
    {
      "cell_type": "markdown",
      "source": [
        "# Question - Answering System"
      ],
      "metadata": {
        "id": "otu-tVYKc-ZD"
      }
    },
    {
      "cell_type": "code",
      "source": [
        "!pip install -r requirements.txt"
      ],
      "metadata": {
        "id": "ThBYbixk8exM"
      },
      "execution_count": null,
      "outputs": []
    },
    {
      "cell_type": "code",
      "source": [
        "from question_answer import QnA"
      ],
      "metadata": {
        "id": "EeQXyihCfnlW"
      },
      "execution_count": null,
      "outputs": []
    },
    {
      "cell_type": "markdown",
      "source": [
        "\n",
        "\n",
        "## Initialize the class"
      ],
      "metadata": {
        "id": "pIBtW0LuYT3u"
      }
    },
    {
      "cell_type": "markdown",
      "source": [
        "Created a package QnA for fine tuning and prediction"
      ],
      "metadata": {
        "id": "WsNtR5tKZbWk"
      }
    },
    {
      "cell_type": "code",
      "source": [
        "qna=QnA()"
      ],
      "metadata": {
        "id": "QAj1T1DqfxDK"
      },
      "execution_count": null,
      "outputs": []
    },
    {
      "cell_type": "markdown",
      "source": [
        "## Fine tuning"
      ],
      "metadata": {
        "id": "Ib18iRBaYZLI"
      }
    },
    {
      "cell_type": "markdown",
      "source": [
        "Use Colab with GPU accelerators to accelerate the training process\n",
        "\n",
        "This cell trains the given model on the given dataset and performs the evaluation.\n",
        "\n",
        "* The pre-trained model from huggingface which needs to be fine tuned on the dataset.\n",
        "\n",
        "* The user should provide the training and validation file path(optional) in json/csv format.\n",
        "\n",
        "* The user should also provide the output path where all the model results will be saved.\n",
        "\n",
        "* If the model name is not specified in the function,default model**(deepset/tinyroberta-squad2)** is taken into consideration\n",
        "\n",
        "For more information the user can refer to the following italicized text \n",
        "\n",
        "https://github.com/huggingface/transformers/tree/main/examples/pytorch/question-answering"
      ],
      "metadata": {
        "id": "dLS9PFM3Zswc"
      }
    },
    {
      "cell_type": "code",
      "source": [
        "finetuned_model=qna.train(train_data_path='squad_data/train_data_500_squadv2.json',output_path='model',model_name='deepset/roberta-base-squad2',valn_path='squad_data/validation_data_500_squadv2.json')"
      ],
      "metadata": {
        "id": "UGGbS5QIo_Th"
      },
      "execution_count": null,
      "outputs": []
    },
    {
      "cell_type": "markdown",
      "source": [
        "##Prediction using single context"
      ],
      "metadata": {
        "id": "RXLa9dIAYznP"
      }
    },
    {
      "cell_type": "markdown",
      "source": [
        "We can use any pre trained/fine tuned model from Huggingface to infer on the test input. \n",
        "\n",
        "The user should provide:\n",
        "\n",
        "* query/question\n",
        "* context\n",
        "\n",
        "* If the model name is not specified,default model**(deepset/tinyroberta-squad2)** is taken into consideration\n",
        "\n",
        "We can pass any kwargs inside predict function. (i.e doc_stride,max_answer_length,..)"
      ],
      "metadata": {
        "id": "Gc97Nw82bOjY"
      }
    },
    {
      "cell_type": "code",
      "source": [
        "context = \"The US has passed the peak on new coronavirus cases, \" \\\n",
        "          \"President Donald Trump said and predicted that some states would reopen this month. \" \\\n",
        "          \"The US has over 637,000 confirmed Covid-19 cases and over 30,826 deaths, the highest for any country in the world.\"\n",
        "\n",
        "question = \"What was President Donald Trump's prediction?\""
      ],
      "metadata": {
        "id": "eBmixD0hY2Xl"
      },
      "execution_count": null,
      "outputs": []
    },
    {
      "cell_type": "code",
      "source": [
        "# qna.predict(question=question,context=context,doc_stride=128,max_answer_length=20,learning_rate=3e-5,n_best_size=20)\n",
        "qna.predict(question=question,context=context,model_name='deepset/roberta-base-squad2')"
      ],
      "metadata": {
        "id": "wSdk4ePbVmnY",
        "colab": {
          "base_uri": "https://localhost:8080/"
        },
        "outputId": "8f3d5da8-c92d-404c-f5d4-c0b25d514e5b"
      },
      "execution_count": null,
      "outputs": [
        {
          "output_type": "stream",
          "name": "stdout",
          "text": [
            "Executed\n",
            "Model Name: deepset/roberta-base-squad2\n"
          ]
        },
        {
          "output_type": "execute_result",
          "data": {
            "text/plain": [
              "[{'question': \"What was President Donald Trump's prediction?\",\n",
              "  'context': 'The US has passed the peak on new coronavirus cases, President Donald Trump said and predicted that some states would reopen this month. The US has over 637,000 confirmed Covid-19 cases and over 30,826 deaths, the highest for any country in the world.',\n",
              "  'predicted_answer': 'some states would reopen this month',\n",
              "  'model_name': 'deepset/roberta-base-squad2',\n",
              "  'score': 0.5812742710113525,\n",
              "  'start': 100,\n",
              "  'end': 135}]"
            ]
          },
          "metadata": {},
          "execution_count": 54
        }
      ]
    },
    {
      "cell_type": "markdown",
      "source": [
        "##Prediction using test data"
      ],
      "metadata": {
        "id": "CLXNUuLW_l98"
      }
    },
    {
      "cell_type": "code",
      "source": [
        "qna.predict(test_path=\"squad_data/test_data_squadv2.json\",output_path=\"model/test_prediction\",model_name='deepset/roberta-base-squad2')"
      ],
      "metadata": {
        "id": "8EDUKm2wZQiA"
      },
      "execution_count": null,
      "outputs": []
    },
    {
      "cell_type": "code",
      "source": [],
      "metadata": {
        "id": "NKGx2TzEaHoz"
      },
      "execution_count": null,
      "outputs": []
    }
  ]
}